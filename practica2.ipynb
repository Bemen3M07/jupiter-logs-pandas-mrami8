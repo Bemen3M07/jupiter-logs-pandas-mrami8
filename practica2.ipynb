{
 "cells": [
  {
   "cell_type": "code",
   "execution_count": 2,
   "id": "48eae72f-3bad-42a6-b80a-dc495d53b931",
   "metadata": {},
   "outputs": [
    {
     "name": "stdout",
     "output_type": "stream",
     "text": [
      "18:46:48 - INFO - Esto es un mensaje de información\n",
      "18:46:48 - ERROR - Esto es un mensaje de error\n",
      "18:46:50 - INFO - Esto es un mensaje de información\n",
      "18:46:50 - ERROR - Esto es un mensaje de error\n",
      "18:46:52 - INFO - Esto es un mensaje de información\n",
      "18:46:52 - ERROR - Esto es un mensaje de error\n",
      "18:46:54 - INFO - Esto es un mensaje de información\n",
      "18:46:54 - ERROR - Esto es un mensaje de error\n",
      "18:46:56 - INFO - Esto es un mensaje de información\n",
      "18:46:56 - ERROR - Esto es un mensaje de error\n",
      "18:46:58 - INFO - Esto es un mensaje de información\n",
      "18:46:58 - ERROR - Esto es un mensaje de error\n",
      "18:47:00 - INFO - Esto es un mensaje de información\n",
      "18:47:00 - ERROR - Esto es un mensaje de error\n",
      "18:47:02 - INFO - Esto es un mensaje de información\n",
      "18:47:02 - ERROR - Esto es un mensaje de error\n",
      "18:47:04 - INFO - Esto es un mensaje de información\n",
      "18:47:04 - ERROR - Esto es un mensaje de error\n",
      "18:47:06 - INFO - Esto es un mensaje de información\n",
      "18:47:06 - ERROR - Esto es un mensaje de error\n",
      "18:47:08 - INFO - Esto es un mensaje de información\n",
      "18:47:08 - ERROR - Esto es un mensaje de error\n"
     ]
    },
    {
     "ename": "KeyboardInterrupt",
     "evalue": "",
     "output_type": "error",
     "traceback": [
      "\u001b[0;31m---------------------------------------------------------------------------\u001b[0m",
      "\u001b[0;31mKeyboardInterrupt\u001b[0m                         Traceback (most recent call last)",
      "Cell \u001b[0;32mIn[2], line 21\u001b[0m\n\u001b[1;32m     16\u001b[0m info_logger\u001b[38;5;241m.\u001b[39merror(\u001b[38;5;124m\"\u001b[39m\u001b[38;5;124mEsto es un mensaje de error\u001b[39m\u001b[38;5;124m\"\u001b[39m)\n\u001b[1;32m     19\u001b[0m csv_logger\u001b[38;5;241m.\u001b[39minfo(\u001b[38;5;124m\"\u001b[39m\u001b[38;5;124mMensaje de INFO registrado\u001b[39m\u001b[38;5;124m\"\u001b[39m)\n\u001b[0;32m---> 21\u001b[0m \u001b[43mtime\u001b[49m\u001b[38;5;241;43m.\u001b[39;49m\u001b[43msleep\u001b[49m\u001b[43m(\u001b[49m\u001b[38;5;241;43m2\u001b[39;49m\u001b[43m)\u001b[49m\n",
      "\u001b[0;31mKeyboardInterrupt\u001b[0m: "
     ]
    }
   ],
   "source": [
    "import logging\n",
    "import logging.config\n",
    "import time\n",
    "\n",
    "\n",
    "logging.config.fileConfig('Logging.conf')\n",
    "\n",
    "\n",
    "info_logger = logging.getLogger('infoLogger')\n",
    "csv_logger = logging.getLogger('csvLogger')\n",
    "\n",
    "\n",
    "while True:\n",
    "   \n",
    "    info_logger.info(\"Esto es un mensaje de información\")\n",
    "    info_logger.error(\"Esto es un mensaje de error\")\n",
    "\n",
    "  \n",
    "    csv_logger.info(\"Mensaje de INFO registrado\")\n",
    "\n",
    "    time.sleep(2)\n",
    "\n",
    "\n"
   ]
  },
  {
   "cell_type": "markdown",
   "id": "6b498088-d434-43bc-908c-21da95a406ef",
   "metadata": {},
   "source": []
  }
 ],
 "metadata": {
  "kernelspec": {
   "display_name": "Python 3 (ipykernel)",
   "language": "python",
   "name": "python3"
  },
  "language_info": {
   "codemirror_mode": {
    "name": "ipython",
    "version": 3
   },
   "file_extension": ".py",
   "mimetype": "text/x-python",
   "name": "python",
   "nbconvert_exporter": "python",
   "pygments_lexer": "ipython3",
   "version": "3.12.1"
  }
 },
 "nbformat": 4,
 "nbformat_minor": 5
}
