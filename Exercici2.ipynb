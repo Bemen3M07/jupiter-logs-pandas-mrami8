{
 "cells": [
  {
   "cell_type": "code",
   "execution_count": null,
   "id": "48eae72f-3bad-42a6-b80a-dc495d53b931",
   "metadata": {},
   "outputs": [],
   "source": [
    "import logging\n",
    "import logging.config\n",
    "import time\n",
    "\n",
    "\n",
    "logging.config.fileConfig('Logging.conf')\n",
    "\n",
    "\n",
    "info_logger = logging.getLogger('infoLogger')\n",
    "csv_logger = logging.getLogger('csvLogger')\n",
    "\n",
    "\n",
    "while True:\n",
    "   \n",
    "    info_logger.info(\"Esto es un mensaje de información\")\n",
    "    info_logger.error(\"Esto es un mensaje de error\")\n",
    "\n",
    "  \n",
    "    csv_logger.info(\"Mensaje de INFO registrado\")\n",
    "\n",
    "    time.sleep(2)\n",
    "\n",
    "\n"
   ]
  },
  {
   "cell_type": "code",
   "execution_count": null,
   "id": "a869ad78-5307-4050-97f1-bdd7ca7d7e41",
   "metadata": {},
   "outputs": [],
   "source": []
  }
 ],
 "metadata": {
  "kernelspec": {
   "display_name": "Python 3 (ipykernel)",
   "language": "python",
   "name": "python3"
  },
  "language_info": {
   "codemirror_mode": {
    "name": "ipython",
    "version": 3
   },
   "file_extension": ".py",
   "mimetype": "text/x-python",
   "name": "python",
   "nbconvert_exporter": "python",
   "pygments_lexer": "ipython3",
   "version": "3.12.1"
  }
 },
 "nbformat": 4,
 "nbformat_minor": 5
}
