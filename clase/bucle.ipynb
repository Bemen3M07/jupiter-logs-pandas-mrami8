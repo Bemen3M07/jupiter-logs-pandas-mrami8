{
 "cells": [
  {
   "cell_type": "code",
   "execution_count": null,
   "id": "48eae72f-3bad-42a6-b80a-dc495d53b931",
   "metadata": {},
   "outputs": [],
   "source": [
    "import time\n",
    "import logging\n",
    "\n",
    "\n",
    "logger = logging.getLogger()\n",
    "logger.setLevel(logging.INFO)\n",
    "\n",
    "\n",
    "file_handler = logging.FileHandler('NUEVOBUCLE.log')\n",
    "\n",
    "\n",
    "formatter = logging.Formatter('%(asctime)s - %(message)s', datefmt='%H:%M:%S')\n",
    "\n",
    "\n",
    "file_handler.setFormatter(formatter)\n",
    "\n",
    "\n",
    "logger.addHandler(file_handler)\n",
    "\n",
    "while True:\n",
    "    logger.info(\"Esto es un bucle\")\n",
    "    time.sleep(2)\n",
    "\n"
   ]
  }
 ],
 "metadata": {
  "kernelspec": {
   "display_name": "Python 3 (ipykernel)",
   "language": "python",
   "name": "python3"
  },
  "language_info": {
   "codemirror_mode": {
    "name": "ipython",
    "version": 3
   },
   "file_extension": ".py",
   "mimetype": "text/x-python",
   "name": "python",
   "nbconvert_exporter": "python",
   "pygments_lexer": "ipython3",
   "version": "3.12.1"
  }
 },
 "nbformat": 4,
 "nbformat_minor": 5
}
