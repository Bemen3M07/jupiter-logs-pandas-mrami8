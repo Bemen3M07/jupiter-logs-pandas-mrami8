{
 "cells": [
  {
   "cell_type": "code",
   "execution_count": 1,
   "id": "5d58e804-96f7-4afe-aca3-7d424d5fab8f",
   "metadata": {},
   "outputs": [],
   "source": [
    "import logging\n",
    "logging.basicConfig(filename='marcpython.log',level=logging.DEBUG)\n"
   ]
  },
  {
   "cell_type": "code",
   "execution_count": 5,
   "id": "76f02942-c9a7-4c69-a58f-5101be9d88ed",
   "metadata": {},
   "outputs": [],
   "source": [
    "logging.error ('jerarquia')"
   ]
  },
  {
   "cell_type": "code",
   "execution_count": 6,
   "id": "2b253fd7-e1d8-46d4-9b80-ebfe9d6a143f",
   "metadata": {},
   "outputs": [],
   "source": [
    "logging.warning('Watch out')\n"
   ]
  },
  {
   "cell_type": "code",
   "execution_count": 4,
   "id": "42342bc3-eba9-4bf4-9933-5cc1b18c036e",
   "metadata": {},
   "outputs": [],
   "source": [
    "logging.info('hola')"
   ]
  },
  {
   "cell_type": "code",
   "execution_count": null,
   "id": "133f7fd7-ab8f-4281-859a-8b057c3911a2",
   "metadata": {},
   "outputs": [],
   "source": []
  }
 ],
 "metadata": {
  "kernelspec": {
   "display_name": "Python 3 (ipykernel)",
   "language": "python",
   "name": "python3"
  },
  "language_info": {
   "codemirror_mode": {
    "name": "ipython",
    "version": 3
   },
   "file_extension": ".py",
   "mimetype": "text/x-python",
   "name": "python",
   "nbconvert_exporter": "python",
   "pygments_lexer": "ipython3",
   "version": "3.12.1"
  }
 },
 "nbformat": 4,
 "nbformat_minor": 5
}
